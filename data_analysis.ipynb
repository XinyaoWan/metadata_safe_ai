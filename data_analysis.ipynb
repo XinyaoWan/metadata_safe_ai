{
 "cells": [
  {
   "cell_type": "code",
   "execution_count": 1,
   "metadata": {},
   "outputs": [],
   "source": [
    "import pandas as pd\n",
    "import numpy as np\n",
    "import matplotlib.pyplot as plt\n",
    "import seaborn as sns\n",
    "import scipy.stats as stats\n",
    "import os\n",
    "import shutil\n",
    "import cv2\n",
    "\n",
    "from my_utils import *"
   ]
  },
  {
   "cell_type": "markdown",
   "metadata": {},
   "source": [
    "Data Preparation"
   ]
  },
  {
   "cell_type": "code",
   "execution_count": 2,
   "metadata": {},
   "outputs": [],
   "source": [
    "starts = [1 + 5000 * i for i in range(10)]\n",
    "\n",
    "\n",
    "# Fields to be used\n",
    "kpi_cols = [\"image_id\", \"precision\", \"recall\", \"accuracy\"]\n",
    "\n",
    "metadata_cols = [\n",
    "    \"image_id\",\n",
    "    \"country_code\",\n",
    "    \"weather\",\n",
    "    \"road_type\",\n",
    "    \"road_condition\",\n",
    "    \"time_of_day\",\n",
    "    \"num_vehicles\",\n",
    "    \"longitude\",\n",
    "    \"latitude\",\n",
    "    \"solar_angle_elevation\",\n",
    "]\n",
    "\n",
    "calibration_cols = [\n",
    "    \"image_id\",\n",
    "    \"focal_length_x\",\n",
    "    \"focal_length_y\",\n",
    "    \"principle_point_x\",\n",
    "    \"principle_point_y\",\n",
    "    \"camera_pose_x\",\n",
    "    \"camera_pose_y\",\n",
    "    \"camera_pose_yaw\",\n",
    "    \"camera_pose_pitch\",\n",
    "    \"camera_pose_roll\",\n",
    "    \"camera_pose_z\",\n",
    "    \"horizontal_fov\",\n",
    "    \"vertical_fov\",\n",
    "]\n",
    "\n",
    "ego_motion_cols = [\n",
    "    \"image_id\",\n",
    "    \"ego_pose_x\",\n",
    "    \"ego_pose_y\",\n",
    "    \"ego_pose_yaw\",\n",
    "    \"ego_pose_pitch\",\n",
    "    \"ego_pose_roll\",\n",
    "    \"speed_var\",\n",
    "    \"mean_jerk\",\n",
    "    \"max_jerk\",\n",
    "    \"st_jerk\",\n",
    "    \"mean_angular_acc\",\n",
    "    \"max_angular_acc\",\n",
    "    \"st_angular_acc\",\n",
    "    \"mean_lateral_acc\",\n",
    "    \"max_lateral_acc\",\n",
    "    \"st_lateral_acc\",\n",
    "]\n",
    "\n",
    "# Containers for subsets\n",
    "kpi_subs = []\n",
    "metadata_subs = []\n",
    "calibration_subs = []\n",
    "ego_motion_subs = []\n",
    "pred_subs = []\n",
    "gt_subs = []\n",
    "\n",
    "for start in starts:\n",
    "    end = start + 5000 - 1\n",
    "    kpi_subs.append(pd.read_csv(f\"outputs/{start}_{end}/kpi/kpi.csv\", usecols=kpi_cols))\n",
    "    metadata_subs.append(\n",
    "        pd.read_csv(\n",
    "            f\"outputs/{start}_{end}/metadata/metadata.csv\",\n",
    "            usecols=metadata_cols,\n",
    "        )\n",
    "    )\n",
    "    calibration_subs.append(\n",
    "        pd.read_csv(\n",
    "            f\"outputs/{start}_{end}/metadata/calibration.csv\", usecols=calibration_cols\n",
    "        )\n",
    "    )\n",
    "    ego_motion_subs.append(\n",
    "        pd.read_csv(\n",
    "            f\"outputs/{start}_{end}/metadata/ego_motion.csv\",\n",
    "            usecols=ego_motion_cols,\n",
    "        )\n",
    "    )\n",
    "    pred_subs.append(pd.read_csv(f\"outputs/{start}_{end}/predictions.csv\"))\n",
    "    gt_subs.append(pd.read_csv(f\"outputs/{start}_{end}/ground_truths.csv\"))\n",
    "\n",
    "kpi = pd.concat(kpi_subs, axis=0)\n",
    "metadata = pd.concat(metadata_subs, axis=0)\n",
    "calibration = pd.concat(calibration_subs, axis=0)\n",
    "ego_motion = pd.concat(ego_motion_subs, axis=0)\n",
    "preds = pd.concat(pred_subs, axis=0)\n",
    "gts = pd.concat(gt_subs, axis=0)\n",
    "gts = gts[gts[\"class\"]==\"Car\"]"
   ]
  },
  {
   "cell_type": "markdown",
   "metadata": {},
   "source": [
    "### A - Analyse KPI Distribution"
   ]
  },
  {
   "cell_type": "code",
   "execution_count": null,
   "metadata": {},
   "outputs": [],
   "source": [
    "def plot_fit_distribution(data, title, dist_name=None, bins=50):\n",
    "\n",
    "    # Plot histogram and PDF\n",
    "    plt.figure(figsize=(8, 5))\n",
    "    plt.hist(data, bins=bins, density=True, alpha=0.5, label=\"Data Histogram\")\n",
    "    \n",
    "    if dist_name is not None:\n",
    "        dist = getattr(stats, dist_name)  # Get distribution class from scipy.stats\n",
    "        params = dist.fit(data)  # Fit distribution to data\n",
    "        \n",
    "        x = np.linspace(min(data), max(data), 1000) # Generate x values\n",
    "        pdf_fitted = dist.pdf(x, *params)\n",
    "        \n",
    "        plt.plot(x, pdf_fitted, label=f\"{dist_name} fit\", linewidth=2)\n",
    "        \n",
    "        print(f\"Fitted parameters for {dist_name}: {params}\")\n",
    "\n",
    "    plt.title(title)\n",
    "    plt.xlabel(\"Value\")\n",
    "    plt.ylabel(\"Density\")\n",
    "    plt.legend()\n",
    "    plt.grid(True)\n",
    "    plt.show()\n",
    "    "
   ]
  },
  {
   "cell_type": "markdown",
   "metadata": {},
   "source": [
    "A1 - Recall"
   ]
  },
  {
   "cell_type": "code",
   "execution_count": null,
   "metadata": {},
   "outputs": [],
   "source": [
    "data = kpi[\"recall\"].to_numpy()\n",
    "# data = kpi[kpi[\"recall\"] < 1][\"recall\"]\n",
    "\n",
    "plot_fit_distribution(data, \"Recall Distribution\")\n"
   ]
  },
  {
   "cell_type": "code",
   "execution_count": null,
   "metadata": {},
   "outputs": [],
   "source": [
    "# When recell = 0, the distribution of num_vehicles\n",
    "selector = kpi[\"recall\"]==0\n",
    "data = metadata[\"num_vehicles\"][selector]\n",
    "\n",
    "# Summary statistics\n",
    "print(f\"Num_Vehicle Summary (When Recall=0): \\n{data.describe()}\\n\")\n",
    "\n",
    "# Because when there's no vehicle, recall is calculated as zero\n",
    "# How many images contain zero vehicle?\n",
    "print(len(data[data==0]))"
   ]
  },
  {
   "cell_type": "code",
   "execution_count": 8,
   "metadata": {},
   "outputs": [
    {
     "name": "stdout",
     "output_type": "stream",
     "text": [
      "1169\n"
     ]
    }
   ],
   "source": [
    "# Copy all zero recall images to an folder\n",
    "selector = (kpi[\"accuracy\"]<=0.4) & (kpi[\"accuracy\"]>=0.2)\n",
    "print(sum(selector))\n",
    "for img_id in kpi[\"image_id\"][selector].to_list()[:100]:\n",
    "    img_folder = f\"single_frames_img/{img_id:06d}/camera_front_blur\"\n",
    "    img_name = os.listdir(img_folder)[0]\n",
    "\n",
    "    img_src = os.path.join(img_folder, img_name)\n",
    "    img_dst = os.path.join(\"outputs/grouped_images/low_accuracy\", img_name)\n",
    "    \n",
    "    shutil.copy(img_src, img_dst)\n",
    "    "
   ]
  },
  {
   "cell_type": "code",
   "execution_count": 9,
   "metadata": {},
   "outputs": [],
   "source": [
    "img_folder = \"outputs/grouped_images/low_accuracy\"\n",
    "for img_path in os.listdir(img_folder):\n",
    "    img_id = img_path.split(\"_\")[0]\n",
    "\n",
    "    selector = (preds[\"image_id\"] == int(img_id))\n",
    "    img_pred = preds[selector].iloc[:, 1:5].to_numpy()\n",
    "    selector = (gts[\"image_id\"] == int(img_id))\n",
    "    img_gt = gts[selector].iloc[:, 1:5].to_numpy()\n",
    "\n",
    "    img_bboxes = visualize_bboxes(os.path.join(img_folder, img_path), img_pred, img_gt)\n",
    "    img_bboxes = cv2.cvtColor(img_bboxes, cv2.COLOR_RGB2BGR)\n",
    "    cv2.imwrite(\n",
    "        os.path.join(\"outputs/grouped_images/low_accuracy\", img_path),\n",
    "        img_bboxes,\n",
    "    )"
   ]
  },
  {
   "cell_type": "markdown",
   "metadata": {},
   "source": [
    "A2 - Precision"
   ]
  },
  {
   "cell_type": "code",
   "execution_count": null,
   "metadata": {},
   "outputs": [],
   "source": [
    "data = kpi[\"precision\"].to_numpy()\n",
    "# data = kpi[kpi[\"precision\"] < 1][\"precision\"]\n",
    "\n",
    "plot_fit_distribution(data, \"Precision Distribution\")     # Normal"
   ]
  },
  {
   "cell_type": "markdown",
   "metadata": {},
   "source": [
    "A3 - Accuracy"
   ]
  },
  {
   "cell_type": "code",
   "execution_count": null,
   "metadata": {},
   "outputs": [],
   "source": [
    "data = kpi[\"accuracy\"].to_numpy()\n",
    "# data = kpi[kpi[\"accuracy\"] < 1][\"accuracy\"]\n",
    "\n",
    "plot_fit_distribution(data, \"Accuracy Distribution\")     # Normal"
   ]
  },
  {
   "cell_type": "markdown",
   "metadata": {},
   "source": [
    "### B - Analyse Categorical Metadata Distribution"
   ]
  },
  {
   "cell_type": "code",
   "execution_count": null,
   "metadata": {},
   "outputs": [],
   "source": [
    "def plot_categorical_distribution(data, title=\"Categorical Distribution\", rotate_xticks=True):\n",
    "    \"\"\"\n",
    "    Plots a bar chart of categorical data frequencies.\n",
    "\n",
    "    Parameters:\n",
    "        data (list, pd.Series): Categorical data to visualize.\n",
    "        title (str): Title of the plot.\n",
    "        rotate_xticks (bool): Whether to rotate x-axis labels for readability.\n",
    "    \"\"\"\n",
    "    # Convert to pandas Series if needed\n",
    "    if not isinstance(data, pd.Series):\n",
    "        data = pd.Series(data)\n",
    "\n",
    "    # Count category frequencies\n",
    "    counts = data.value_counts()\n",
    "\n",
    "    # Plot\n",
    "    plt.figure(figsize=(6, 3))\n",
    "    sns.barplot(x=counts.index, y=counts.values)\n",
    "    plt.title(title)\n",
    "    plt.xlabel(\"Category\")\n",
    "    plt.ylabel(\"Count\")\n",
    "    if rotate_xticks:\n",
    "        plt.xticks(rotation=45, ha=\"right\")\n",
    "    plt.tight_layout()\n",
    "    plt.grid(axis='y', linestyle='--', alpha=0.7)\n",
    "    plt.show()"
   ]
  },
  {
   "cell_type": "markdown",
   "metadata": {},
   "source": [
    "B1 - Country Code"
   ]
  },
  {
   "cell_type": "code",
   "execution_count": null,
   "metadata": {},
   "outputs": [],
   "source": [
    "data = metadata[\"country_code\"]\n",
    "plot_categorical_distribution(data, title=\"Country Code Count\")"
   ]
  },
  {
   "cell_type": "markdown",
   "metadata": {},
   "source": [
    "Note: makes sense to use only data in Poland(0) or Germany(1) to remove geographical bias"
   ]
  },
  {
   "cell_type": "markdown",
   "metadata": {},
   "source": [
    "B2 - Weather"
   ]
  },
  {
   "cell_type": "code",
   "execution_count": null,
   "metadata": {},
   "outputs": [],
   "source": [
    "data = metadata[\"weather\"]\n",
    "plot_categorical_distribution(data, title=\"Weather Count\")"
   ]
  },
  {
   "cell_type": "markdown",
   "metadata": {},
   "source": [
    "B2.1 Check images tagged with \"rain\", \"snow\", and \"fog\""
   ]
  },
  {
   "cell_type": "code",
   "execution_count": null,
   "metadata": {},
   "outputs": [],
   "source": [
    "target_weathers = {\"rain\": 6, \"snow\": 7, \"fog\": 8}\n",
    "\n",
    "for weather, code in target_weathers.items():\n",
    "    # Step 1: Find all file names\n",
    "    selector = metadata[\"weather\"] == code\n",
    "    image_ids = metadata[\"image_id\"][selector]\n",
    "\n",
    "    image_files = []\n",
    "    for image_id in image_ids:\n",
    "        folder = os.path.join(\n",
    "            \"single_frames_img\", f\"{image_id:06d}\", \"camera_front_blur\"\n",
    "        )\n",
    "        image_file = os.path.join(folder, os.listdir(folder)[0])\n",
    "        image_files.append(image_file)\n",
    "\n",
    "    # Step 2: Save these file names as 3 csv files\n",
    "    image_files = pd.DataFrame(image_files, columns=[\"file_name\"])\n",
    "    image_files.to_csv(\n",
    "        os.path.join(\"outputs\", \"grouped_images\", f\"by_weather_{weather}.csv\"),\n",
    "        index=False,\n",
    "    )"
   ]
  },
  {
   "cell_type": "code",
   "execution_count": null,
   "metadata": {},
   "outputs": [],
   "source": [
    "# Step 3: Naviage the images using the utility function\n",
    "images_rain = pd.read_csv(\"outputs/grouped_images/by_weather_rain.csv\")\n",
    "images_snow = pd.read_csv(\"outputs/grouped_images/by_weather_snow.csv\")\n",
    "images_fog = pd.read_csv(\"outputs/grouped_images/by_weather_fog.csv\")\n",
    "\n",
    "images_rain = images_rain[\"file_name\"].to_list()\n",
    "images_snow = images_snow[\"file_name\"].to_list()\n",
    "images_fog = images_fog[\"file_name\"].to_list()\n",
    "\n",
    "navigate_images(images_rain, 1190)"
   ]
  },
  {
   "cell_type": "markdown",
   "metadata": {},
   "source": [
    "B2.2 Check images (6 samples) with wiper appearance"
   ]
  },
  {
   "cell_type": "code",
   "execution_count": null,
   "metadata": {},
   "outputs": [],
   "source": [
    "# Check some sample images with wiper appearance\n",
    "images_wiper = pd.read_csv(\"outputs/grouped_images/by_wiper.csv\")\n",
    "images_wiper = images_wiper[\"file_name\"].to_list()\n",
    "\n",
    "image_ids = [fn.split(\"/\")[1] for fn in images_wiper]\n",
    "image_ids = [int(image_id) for image_id in image_ids]\n",
    "\n",
    "for idx, image_id in enumerate(image_ids):\n",
    "    gt_bboxes = gts[gts[\"image_id\"]==image_id].iloc[:, 1:5].to_numpy()\n",
    "    pred_bboxes = preds[preds[\"image_id\"]==image_id].iloc[:, 1:5].to_numpy()\n",
    "\n",
    "    img_bboxes = visualize_bboxes(images_wiper[idx], pred_bboxes, gt_bboxes)\n",
    "    img_bboxes = cv2.cvtColor(img_bboxes, cv2.COLOR_RGB2BGR)\n",
    "    cv2.imwrite(\n",
    "        os.path.join(\"outputs/grouped_images/by_wiper\", os.path.split(images_wiper[idx])[1]),\n",
    "        img_bboxes,\n",
    "    )  "
   ]
  },
  {
   "cell_type": "code",
   "execution_count": null,
   "metadata": {},
   "outputs": [],
   "source": [
    "folder = \"outputs/grouped_images/by_wiper\"\n",
    "images_wiper_bboxes = [os.path.join(folder, fn) for fn in os.listdir(folder)]\n",
    "\n",
    "navigate_images(images_wiper_bboxes) "
   ]
  },
  {
   "cell_type": "markdown",
   "metadata": {},
   "source": [
    "B2.3 Images with weird color"
   ]
  },
  {
   "cell_type": "code",
   "execution_count": null,
   "metadata": {},
   "outputs": [],
   "source": [
    "# load image ids\n",
    "image_ids = pd.read_csv(\"outputs/grouped_images/by_weird_color.csv\")\n",
    "image_ids = image_ids[\"image_id\"].to_list()\n",
    "\n",
    "image_paths = []\n",
    "\n",
    "# filter by image ids\n",
    "\n",
    "for fp in pd.read_csv(\"outputs/grouped_images/by_weather_rain.csv\")[\"file_name\"].to_list():\n",
    "    if int(fp.split(\"/\")[1]) in image_ids:\n",
    "        image_paths.append(fp)\n",
    "\n",
    "image_collectors = [fp.split(\"_\")[-2] for fp in image_paths]\n",
    "\n",
    "new_data = {\n",
    "    \"image_id\": image_ids,\n",
    "    \"image_path\": image_paths,\n",
    "    \"collector\": image_collectors\n",
    "}\n",
    "\n",
    "new_data = pd.DataFrame(new_data)\n",
    "new_data.to_csv(\"outputs/grouped_images/by_weird_color.csv\")\n",
    "\n",
    "# Save original images to a folder\n",
    "for fp in image_paths:\n",
    "    img_name = os.path.split(fp)[1]\n",
    "    img_dst = os.path.join(\"outputs/grouped_images/by_weird_color\", img_name)\n",
    "    \n",
    "    shutil.copy(fp, img_dst)"
   ]
  },
  {
   "cell_type": "markdown",
   "metadata": {},
   "source": [
    "B3 - Road Condition"
   ]
  },
  {
   "cell_type": "code",
   "execution_count": null,
   "metadata": {},
   "outputs": [],
   "source": [
    "data = metadata[\"road_type\"]\n",
    "plot_categorical_distribution(data, title=\"Road Type Count\")"
   ]
  },
  {
   "cell_type": "markdown",
   "metadata": {},
   "source": [
    "Note: makes sense to use road type = city (0) only"
   ]
  },
  {
   "cell_type": "markdown",
   "metadata": {},
   "source": [
    "B4 - Road Condition"
   ]
  },
  {
   "cell_type": "code",
   "execution_count": null,
   "metadata": {},
   "outputs": [],
   "source": [
    "data = metadata[\"road_condition\"]\n",
    "plot_categorical_distribution(data, title=\"Road Coundition Count\")"
   ]
  },
  {
   "cell_type": "markdown",
   "metadata": {},
   "source": [
    "B5 -  Time of Day"
   ]
  },
  {
   "cell_type": "code",
   "execution_count": null,
   "metadata": {},
   "outputs": [],
   "source": [
    "data = metadata[\"time_of_day\"]\n",
    "plot_categorical_distribution(data, title=\"Time of Day Count\")"
   ]
  },
  {
   "cell_type": "markdown",
   "metadata": {},
   "source": [
    "### D - Apply Filtering on KPI & Distribution by Categories"
   ]
  },
  {
   "cell_type": "code",
   "execution_count": null,
   "metadata": {},
   "outputs": [],
   "source": [
    "selector = (metadata[\"country_code\"] == 0) & (metadata[\"road_type\"] == 0)"
   ]
  },
  {
   "cell_type": "markdown",
   "metadata": {},
   "source": [
    "C1.1 - Fit Filtered Recall"
   ]
  },
  {
   "cell_type": "code",
   "execution_count": null,
   "metadata": {},
   "outputs": [],
   "source": [
    "data = kpi[selector & (kpi[\"recall\"] > 0.05) & (kpi[\"recall\"] < 0.95)][\"recall\"]\n",
    "plot_fit_distribution(data, dist_name=\"beta\")"
   ]
  },
  {
   "cell_type": "markdown",
   "metadata": {},
   "source": [
    "C1.2 - Fit Filtered Precision"
   ]
  },
  {
   "cell_type": "code",
   "execution_count": null,
   "metadata": {},
   "outputs": [],
   "source": [
    "data = kpi[selector & (kpi[\"precision\"] > 0.05) & (kpi[\"precision\"] < 0.95)][\"precision\"]\n",
    "plot_fit_distribution(data, dist_name=\"beta\")"
   ]
  },
  {
   "cell_type": "markdown",
   "metadata": {},
   "source": [
    "C1.3 - Fit Filtered Accuracy"
   ]
  },
  {
   "cell_type": "code",
   "execution_count": null,
   "metadata": {},
   "outputs": [],
   "source": [
    "data = kpi[selector][\"accuracy\"]\n",
    "plot_fit_distribution(data, dist_name=\"beta\")"
   ]
  },
  {
   "cell_type": "markdown",
   "metadata": {},
   "source": [
    "C2.1 - Recall Depending on Weather"
   ]
  },
  {
   "cell_type": "code",
   "execution_count": null,
   "metadata": {},
   "outputs": [],
   "source": [
    "weather_selector = metadata[\"weather\"] == 4\n",
    "data = kpi[\n",
    "    selector & weather_selector & (kpi[\"recall\"] > 0.05) & (kpi[\"recall\"] < 0.95)\n",
    "][\"recall\"]\n",
    "plot_fit_distribution(data, dist_name=\"beta\")"
   ]
  },
  {
   "cell_type": "markdown",
   "metadata": {},
   "source": [
    "C2.2 - Precision Depending on Data"
   ]
  },
  {
   "cell_type": "code",
   "execution_count": null,
   "metadata": {},
   "outputs": [],
   "source": [
    "weather_selector = metadata[\"weather\"] == 1\n",
    "data = kpi[\n",
    "    selector & weather_selector & (kpi[\"precision\"] > 0.05) & (kpi[\"precision\"] < 0.95)\n",
    "][\"precision\"]\n",
    "plot_fit_distribution(data, dist_name=\"uniform\")"
   ]
  },
  {
   "cell_type": "markdown",
   "metadata": {},
   "source": [
    "C2.3 - Accuracy Depending on Data"
   ]
  },
  {
   "cell_type": "code",
   "execution_count": null,
   "metadata": {},
   "outputs": [],
   "source": [
    "weather_selector = metadata[\"weather\"] == 7\n",
    "data = kpi[selector & weather_selector][\"accuracy\"]\n",
    "plot_fit_distribution(data, dist_name=\"beta\")"
   ]
  }
 ],
 "metadata": {
  "kernelspec": {
   "display_name": ".venv",
   "language": "python",
   "name": "python3"
  },
  "language_info": {
   "codemirror_mode": {
    "name": "ipython",
    "version": 3
   },
   "file_extension": ".py",
   "mimetype": "text/x-python",
   "name": "python",
   "nbconvert_exporter": "python",
   "pygments_lexer": "ipython3",
   "version": "3.12.0"
  }
 },
 "nbformat": 4,
 "nbformat_minor": 2
}
